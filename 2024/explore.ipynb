{
 "cells": [
  {
   "cell_type": "code",
   "execution_count": 19,
   "id": "f04bc8f0-9bcf-4061-9bae-37f447711283",
   "metadata": {},
   "outputs": [
    {
     "data": {
      "text/plain": [
       "[1, 2, 3, 4, 5]"
      ]
     },
     "execution_count": 19,
     "metadata": {},
     "output_type": "execute_result"
    }
   ],
   "source": [
    "#unpackage - values to a list\n",
    "data = ['1','2','3','4','5']\n",
    "[*map(int, data)]\n"
   ]
  },
  {
   "cell_type": "code",
   "execution_count": 21,
   "id": "d1f364e0-3938-47ef-bc5f-6ca6117621bb",
   "metadata": {},
   "outputs": [
    {
     "data": {
      "text/plain": [
       "6"
      ]
     },
     "execution_count": 21,
     "metadata": {},
     "output_type": "execute_result"
    }
   ],
   "source": [
    "#unpackaging - list to function args\n",
    "def add_nums(a,b,c): return a+b+c\n",
    "\n",
    "numbers = [1,2,3]\n",
    "add_nums(*numbers)"
   ]
  },
  {
   "cell_type": "code",
   "execution_count": 4,
   "id": "76c7a141-d619-44d9-b990-3b990dbc746b",
   "metadata": {},
   "outputs": [
    {
     "data": {
      "text/plain": [
       "[2, 4, 6]"
      ]
     },
     "execution_count": 4,
     "metadata": {},
     "output_type": "execute_result"
    }
   ],
   "source": [
    "# step size to take alternative elements\n",
    "data = [1, 2, 3, 4, 5, 6]\n",
    "data[1::2] # [2, 4, 6]\n"
   ]
  },
  {
   "cell_type": "code",
   "execution_count": 8,
   "id": "b6dfaf47-18d4-4140-ae0a-513db9ef084f",
   "metadata": {},
   "outputs": [
    {
     "data": {
      "text/plain": [
       "2"
      ]
     },
     "execution_count": 8,
     "metadata": {},
     "output_type": "execute_result"
    }
   ],
   "source": [
    "# count on lists\n",
    "numbers = [0 ,0 ,1]\n",
    "numbers.count(0) # 2"
   ]
  },
  {
   "cell_type": "code",
   "execution_count": 13,
   "id": "9dd0867b-474d-4ac9-993f-6309d9b7ac18",
   "metadata": {},
   "outputs": [
    {
     "data": {
      "text/plain": [
       "21"
      ]
     },
     "execution_count": 13,
     "metadata": {},
     "output_type": "execute_result"
    }
   ],
   "source": [
    "# lambda with map\n",
    "numbers = [1, 2, 3]\n",
    "numbers_2 = [4, 5, 6]\n",
    "\n",
    "sum(map(lambda a,b: a+b, numbers, numbers_2))"
   ]
  },
  {
   "cell_type": "code",
   "execution_count": 14,
   "id": "c62f84c1-ec4a-41d8-acfc-82a2f044c8d9",
   "metadata": {},
   "outputs": [],
   "source": [
    "data = [[int(y) for y in x.split(' ')] for x in open('./resources/02.txt').read().split('\\n')]\n"
   ]
  },
  {
   "cell_type": "code",
   "execution_count": 16,
   "id": "55d2e3a1-ca25-44b2-be26-093c3655c0f5",
   "metadata": {},
   "outputs": [
    {
     "data": {
      "text/plain": [
       "[[19, 21, 24, 27, 24],\n",
       " [85, 87, 89, 92, 93, 96, 98, 98],\n",
       " [2, 5, 6, 7, 8, 12],\n",
       " [63, 66, 69, 72, 75, 82],\n",
       " [18, 21, 23, 26, 28, 26, 27, 28]]"
      ]
     },
     "execution_count": 16,
     "metadata": {},
     "output_type": "execute_result"
    }
   ],
   "source": [
    "data[:5]"
   ]
  },
  {
   "cell_type": "code",
   "execution_count": 33,
   "id": "8b4d3d1c-99f9-4ff5-bc28-1a6af65ee52f",
   "metadata": {},
   "outputs": [],
   "source": [
    "def is_safe(row):\n",
    "    inc = [row[i + 1] - row[i] for i in range(len(row) - 1)]\n",
    "    print(inc, set(inc))\n",
    "    if set(inc) <= {1, 2, 3} or set(inc) <= {-1, -2, -3}:\n",
    "        return True\n",
    "    return False"
   ]
  },
  {
   "cell_type": "code",
   "execution_count": 36,
   "id": "a35805c9-af4f-43f9-9a05-b90bb477794d",
   "metadata": {},
   "outputs": [
    {
     "name": "stdout",
     "output_type": "stream",
     "text": [
      "[9, -4, 3, 1] {9, 3, -4, 1}\n"
     ]
    },
    {
     "data": {
      "text/plain": [
       "False"
      ]
     },
     "execution_count": 36,
     "metadata": {},
     "output_type": "execute_result"
    }
   ],
   "source": [
    "is_safe([19, 28, 24, 27, 28])"
   ]
  },
  {
   "cell_type": "code",
   "execution_count": 41,
   "id": "14acc469-3c61-414a-ac9f-37e47f5048b4",
   "metadata": {},
   "outputs": [],
   "source": [
    "# safe_count = sum([any([is_safe(row[:i] + row[i + 1:]) for i in range(len(row))]) for row in data])\n",
    "# print(safe_count)"
   ]
  },
  {
   "cell_type": "code",
   "execution_count": 46,
   "id": "ece9566f-ea2e-461a-9609-da09505d2718",
   "metadata": {},
   "outputs": [
    {
     "data": {
      "text/plain": [
       "['27636   67663', '92436   51410', '68957   77912']"
      ]
     },
     "execution_count": 46,
     "metadata": {},
     "output_type": "execute_result"
    }
   ],
   "source": [
    "data = open(\"resources/01.txt\").read().splitlines()\n"
   ]
  },
  {
   "cell_type": "code",
   "execution_count": 48,
   "id": "b88cb7a4-ff30-423c-86c1-15d984033885",
   "metadata": {},
   "outputs": [
    {
     "data": {
      "text/plain": [
       "['1   3', '2  5']"
      ]
     },
     "execution_count": 48,
     "metadata": {},
     "output_type": "execute_result"
    }
   ],
   "source": [
    "data"
   ]
  },
  {
   "cell_type": "code",
   "execution_count": 51,
   "id": "b01e2347-d76e-422c-9e12-d515964ad73c",
   "metadata": {},
   "outputs": [],
   "source": [
    "data = [[*map(int, l.split())] for l in open('resources/02_test.txt')]\n",
    "\n",
    "# def good(d, s=0):\n",
    "#     for i in range(len(d)-1):\n",
    "#         if not 1 <= d[i]-d[i+1] <= 3:\n",
    "#             return s and any(good(d[j-1:j] + d[j+1:]) for j in (i,i+1))\n",
    "#     return True\n",
    "\n",
    "# for s in 0, 1: print(sum(good(d, s) or good(d[::-1], s) for d in data))"
   ]
  },
  {
   "cell_type": "code",
   "execution_count": 57,
   "id": "cfaebc98-2318-4af9-a6e7-698bb22bbf3d",
   "metadata": {},
   "outputs": [
    {
     "name": "stdout",
     "output_type": "stream",
     "text": [
      "[7, 6, 4, 2, 1] [1, 2, 4, 6, 7]\n",
      "7 6\n",
      "6 4\n",
      "4 2\n",
      "2 1\n",
      "[1, 2, 7, 8, 9] [9, 8, 7, 2, 1]\n",
      "1 2\n",
      "2 7\n",
      "7 8\n",
      "8 9\n",
      "[9, 7, 6, 2, 1] [1, 2, 6, 7, 9]\n",
      "9 7\n",
      "7 6\n",
      "6 2\n",
      "2 1\n",
      "[1, 3, 2, 4, 5] [5, 4, 2, 3, 1]\n",
      "1 3\n",
      "3 2\n",
      "2 4\n",
      "4 5\n",
      "[8, 6, 4, 4, 1] [1, 4, 4, 6, 8]\n",
      "8 6\n",
      "6 4\n",
      "4 4\n",
      "4 1\n",
      "[1, 3, 6, 7, 9] [9, 7, 6, 3, 1]\n",
      "1 3\n",
      "3 6\n",
      "6 7\n",
      "7 9\n"
     ]
    }
   ],
   "source": [
    "for d in data:\n",
    "    print(d,d[::-1])\n",
    "    for i in range(len(d)-1):\n",
    "        print (d[i],d[i+1])"
   ]
  },
  {
   "cell_type": "code",
   "execution_count": 1,
   "id": "db6e386f-d888-43f4-90ef-d75bd6844517",
   "metadata": {},
   "outputs": [],
   "source": [
    "from re import findall"
   ]
  },
  {
   "cell_type": "code",
   "execution_count": 20,
   "id": "7faa7a5d-a682-411d-86d6-df5066226734",
   "metadata": {},
   "outputs": [
    {
     "data": {
      "text/plain": [
       "\"xmul(2,4)&mul[3,7]!^don't()_mul(5,5)+mul(32,64](mul(11,8)undo()?mul(8,5))\""
      ]
     },
     "execution_count": 20,
     "metadata": {},
     "output_type": "execute_result"
    }
   ],
   "source": [
    "data = open('./resources/03_test_2.txt').read()\n",
    "data"
   ]
  },
  {
   "cell_type": "code",
   "execution_count": 21,
   "id": "bfe18cd9-bdf8-442c-96e2-a3ef32114126",
   "metadata": {},
   "outputs": [
    {
     "data": {
      "text/plain": [
       "161"
      ]
     },
     "execution_count": 21,
     "metadata": {},
     "output_type": "execute_result"
    }
   ],
   "source": [
    "sum(int(a) * int(b) for a, b in findall(r\"mul\\((\\d+),(\\d+)\\)\", data))"
   ]
  },
  {
   "cell_type": "code",
   "execution_count": 38,
   "id": "738ba042-e564-4117-9fb7-99961c6476f6",
   "metadata": {},
   "outputs": [
    {
     "name": "stdout",
     "output_type": "stream",
     "text": [
      "2 4 True\n",
      "5 5 False\n",
      "11 8 False\n",
      "8 5 True\n",
      "48\n"
     ]
    }
   ],
   "source": [
    "enabled = True\n",
    "\n",
    "result_2 = 0\n",
    "for a, b, do, dont in findall(r\"mul\\((\\d+),(\\d+)\\)|(do\\(\\))|(don't\\(\\))\", data):\n",
    "    if do or dont: \n",
    "        enabled = bool(do)\n",
    "    else:\n",
    "        print(a, b, enabled)\n",
    "        result_2 += int(a)* int(b) * enabled\n",
    " \n",
    "print(result_2)"
   ]
  },
  {
   "cell_type": "code",
   "execution_count": 32,
   "id": "6a420ca5-a8e4-4978-bb57-105696b5c251",
   "metadata": {},
   "outputs": [
    {
     "data": {
      "text/plain": [
       "\"xmul(2,4)&mul[3,7]!^don't()_mul(5,5)+mul(32,64](mul(11,8)undo()?mul(8,5))\""
      ]
     },
     "execution_count": 32,
     "metadata": {},
     "output_type": "execute_result"
    }
   ],
   "source": [
    "data"
   ]
  },
  {
   "cell_type": "code",
   "execution_count": 42,
   "id": "ca445077-10c7-408d-9f4e-32b6053112f0",
   "metadata": {},
   "outputs": [],
   "source": [
    "x = list('xmas')"
   ]
  },
  {
   "cell_type": "code",
   "execution_count": 45,
   "id": "fdfdff0f-e402-4a9e-befc-f8d99b541aac",
   "metadata": {},
   "outputs": [
    {
     "data": {
      "text/plain": [
       "'a'"
      ]
     },
     "execution_count": 45,
     "metadata": {},
     "output_type": "execute_result"
    }
   ],
   "source": [
    "x[2]"
   ]
  },
  {
   "cell_type": "code",
   "execution_count": 47,
   "id": "3edb04fd-6cca-4b9c-9b84-190b45f46012",
   "metadata": {},
   "outputs": [
    {
     "data": {
      "text/plain": [
       "[(1, 4), (2, 5), (3, 6)]"
      ]
     },
     "execution_count": 47,
     "metadata": {},
     "output_type": "execute_result"
    }
   ],
   "source": [
    "a = [1,2,3]\n",
    "b = [4,5,6]\n",
    "\n",
    "list(zip(a,b))"
   ]
  },
  {
   "cell_type": "code",
   "execution_count": null,
   "id": "37fcfc69-bf09-420c-b194-ced9e161e822",
   "metadata": {},
   "outputs": [],
   "source": []
  }
 ],
 "metadata": {
  "kernelspec": {
   "display_name": "Python (venv)",
   "language": "python",
   "name": "venv"
  },
  "language_info": {
   "codemirror_mode": {
    "name": "ipython",
    "version": 3
   },
   "file_extension": ".py",
   "mimetype": "text/x-python",
   "name": "python",
   "nbconvert_exporter": "python",
   "pygments_lexer": "ipython3",
   "version": "3.11.2"
  }
 },
 "nbformat": 4,
 "nbformat_minor": 5
}
