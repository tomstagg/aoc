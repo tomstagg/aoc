{
 "cells": [
  {
   "cell_type": "code",
   "execution_count": 19,
   "id": "f04bc8f0-9bcf-4061-9bae-37f447711283",
   "metadata": {},
   "outputs": [
    {
     "data": {
      "text/plain": [
       "[1, 2, 3, 4, 5]"
      ]
     },
     "execution_count": 19,
     "metadata": {},
     "output_type": "execute_result"
    }
   ],
   "source": [
    "#unpackage - values to a list\n",
    "data = ['1','2','3','4','5']\n",
    "[*map(int, data)]\n"
   ]
  },
  {
   "cell_type": "code",
   "execution_count": 21,
   "id": "d1f364e0-3938-47ef-bc5f-6ca6117621bb",
   "metadata": {},
   "outputs": [
    {
     "data": {
      "text/plain": [
       "6"
      ]
     },
     "execution_count": 21,
     "metadata": {},
     "output_type": "execute_result"
    }
   ],
   "source": [
    "#unpackaging - list to function args\n",
    "def add_nums(a,b,c): return a+b+c\n",
    "\n",
    "numbers = [1,2,3]\n",
    "add_nums(*numbers)"
   ]
  },
  {
   "cell_type": "code",
   "execution_count": 4,
   "id": "76c7a141-d619-44d9-b990-3b990dbc746b",
   "metadata": {},
   "outputs": [
    {
     "data": {
      "text/plain": [
       "[2, 4, 6]"
      ]
     },
     "execution_count": 4,
     "metadata": {},
     "output_type": "execute_result"
    }
   ],
   "source": [
    "# step size to take alternative elements\n",
    "data = [1, 2, 3, 4, 5, 6]\n",
    "data[1::2] # [2, 4, 6]\n"
   ]
  },
  {
   "cell_type": "code",
   "execution_count": 8,
   "id": "b6dfaf47-18d4-4140-ae0a-513db9ef084f",
   "metadata": {},
   "outputs": [
    {
     "data": {
      "text/plain": [
       "2"
      ]
     },
     "execution_count": 8,
     "metadata": {},
     "output_type": "execute_result"
    }
   ],
   "source": [
    "# count on lists\n",
    "numbers = [0 ,0 ,1]\n",
    "numbers.count(0) # 2"
   ]
  },
  {
   "cell_type": "code",
   "execution_count": 13,
   "id": "9dd0867b-474d-4ac9-993f-6309d9b7ac18",
   "metadata": {},
   "outputs": [
    {
     "data": {
      "text/plain": [
       "21"
      ]
     },
     "execution_count": 13,
     "metadata": {},
     "output_type": "execute_result"
    }
   ],
   "source": [
    "# lambda with map\n",
    "numbers = [1, 2, 3]\n",
    "numbers_2 = [4, 5, 6]\n",
    "\n",
    "sum(map(lambda a,b: a+b, numbers, numbers_2))"
   ]
  },
  {
   "cell_type": "code",
   "execution_count": null,
   "id": "c62f84c1-ec4a-41d8-acfc-82a2f044c8d9",
   "metadata": {},
   "outputs": [],
   "source": []
  }
 ],
 "metadata": {
  "kernelspec": {
   "display_name": "Python (venv)",
   "language": "python",
   "name": "venv"
  },
  "language_info": {
   "codemirror_mode": {
    "name": "ipython",
    "version": 3
   },
   "file_extension": ".py",
   "mimetype": "text/x-python",
   "name": "python",
   "nbconvert_exporter": "python",
   "pygments_lexer": "ipython3",
   "version": "3.11.2"
  }
 },
 "nbformat": 4,
 "nbformat_minor": 5
}
