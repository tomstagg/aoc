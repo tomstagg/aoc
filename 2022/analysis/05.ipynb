{
 "cells": [
  {
   "cell_type": "code",
   "execution_count": 12,
   "metadata": {},
   "outputs": [],
   "source": [
    "stacks, instructions = open(\"test.txt\").read().split(\"\\n\\n\")"
   ]
  },
  {
   "cell_type": "markdown",
   "metadata": {},
   "source": [
    "## process stack \n",
    "\n",
    " convert to a list of strings by:\n",
    "  * splitting on new line and reversing\n",
    "  * converting to list\n",
    "  * rotating clockwise\n",
    "  * \n",
    "  "
   ]
  },
  {
   "cell_type": "code",
   "execution_count": 13,
   "metadata": {},
   "outputs": [
    {
     "data": {
      "text/plain": [
       "'    [D]    \\n[N] [C]    \\n[Z] [M] [P]\\n 1   2   3 '"
      ]
     },
     "execution_count": 13,
     "metadata": {},
     "output_type": "execute_result"
    }
   ],
   "source": [
    "stacks"
   ]
  },
  {
   "cell_type": "code",
   "execution_count": 14,
   "metadata": {},
   "outputs": [
    {
     "data": {
      "text/plain": [
       "[' 1   2   3 ', '[Z] [M] [P]', '[N] [C]    ', '    [D]    ']"
      ]
     },
     "execution_count": 14,
     "metadata": {},
     "output_type": "execute_result"
    }
   ],
   "source": [
    "stacks.split(\"\\n\")[::-1]"
   ]
  },
  {
   "cell_type": "code",
   "execution_count": 15,
   "metadata": {},
   "outputs": [
    {
     "data": {
      "text/plain": [
       "[[' ', '1', ' ', ' ', ' ', '2', ' ', ' ', ' ', '3', ' '],\n",
       " ['[', 'Z', ']', ' ', '[', 'M', ']', ' ', '[', 'P', ']'],\n",
       " ['[', 'N', ']', ' ', '[', 'C', ']', ' ', ' ', ' ', ' '],\n",
       " [' ', ' ', ' ', ' ', '[', 'D', ']', ' ', ' ', ' ', ' ']]"
      ]
     },
     "execution_count": 15,
     "metadata": {},
     "output_type": "execute_result"
    }
   ],
   "source": [
    "list(map(list, stacks.split(\"\\n\")[::-1]))"
   ]
  },
  {
   "cell_type": "code",
   "execution_count": 16,
   "metadata": {},
   "outputs": [
    {
     "data": {
      "text/plain": [
       "[(' ', '[', '[', ' '),\n",
       " ('1', 'Z', 'N', ' '),\n",
       " (' ', ']', ']', ' '),\n",
       " (' ', ' ', ' ', ' '),\n",
       " (' ', '[', '[', '['),\n",
       " ('2', 'M', 'C', 'D'),\n",
       " (' ', ']', ']', ']'),\n",
       " (' ', ' ', ' ', ' '),\n",
       " (' ', '[', ' ', ' '),\n",
       " ('3', 'P', ' ', ' '),\n",
       " (' ', ']', ' ', ' ')]"
      ]
     },
     "execution_count": 16,
     "metadata": {},
     "output_type": "execute_result"
    }
   ],
   "source": [
    "list(zip(*map(list, stacks.split(\"\\n\")[::-1])))"
   ]
  },
  {
   "cell_type": "code",
   "execution_count": 17,
   "metadata": {},
   "outputs": [
    {
     "data": {
      "text/plain": [
       "[(0, (' ', '[', '[', ' ')),\n",
       " (1, ('1', 'Z', 'N', ' ')),\n",
       " (2, (' ', ']', ']', ' ')),\n",
       " (3, (' ', ' ', ' ', ' ')),\n",
       " (4, (' ', '[', '[', '[')),\n",
       " (5, ('2', 'M', 'C', 'D')),\n",
       " (6, (' ', ']', ']', ']')),\n",
       " (7, (' ', ' ', ' ', ' ')),\n",
       " (8, (' ', '[', ' ', ' ')),\n",
       " (9, ('3', 'P', ' ', ' ')),\n",
       " (10, (' ', ']', ' ', ' '))]"
      ]
     },
     "execution_count": 17,
     "metadata": {},
     "output_type": "execute_result"
    }
   ],
   "source": [
    "list(enumerate(zip(*map(list,stacks.split(\"\\n\")[::-1]))))"
   ]
  },
  {
   "cell_type": "code",
   "execution_count": 18,
   "metadata": {},
   "outputs": [
    {
     "data": {
      "text/plain": [
       "['ZN', 'MCD', 'P']"
      ]
     },
     "execution_count": 18,
     "metadata": {},
     "output_type": "execute_result"
    }
   ],
   "source": [
    "p_stacks = list(\"\".join(x).strip()[1:] for i,x in enumerate(zip(*map(list,stacks.split(\"\\n\")[::-1]))) if i % 4 ==1)\n",
    "p_stacks"
   ]
  },
  {
   "cell_type": "code",
   "execution_count": 19,
   "metadata": {},
   "outputs": [
    {
     "data": {
      "text/plain": [
       "[(1, 2, 1), (3, 1, 3), (2, 2, 1), (1, 1, 2)]"
      ]
     },
     "execution_count": 19,
     "metadata": {},
     "output_type": "execute_result"
    }
   ],
   "source": [
    "import re\n",
    "p_instructions = [tuple(map(int, re.findall(\"\\d+\", i))) for i in instructions.strip().split(\"\\n\")]\n",
    "p_instructions"
   ]
  },
  {
   "cell_type": "code",
   "execution_count": 30,
   "metadata": {},
   "outputs": [
    {
     "data": {
      "text/plain": [
       "[None, 'ZN', 'MCD', 'P']"
      ]
     },
     "execution_count": 30,
     "metadata": {},
     "output_type": "execute_result"
    }
   ],
   "source": [
    "_stacks = [None] + p_stacks[:]\n",
    "_stacks\n",
    "\n",
    "    "
   ]
  },
  {
   "cell_type": "code",
   "execution_count": 31,
   "metadata": {},
   "outputs": [
    {
     "name": "stdout",
     "output_type": "stream",
     "text": [
      "[None, 'M', 'C', 'PZND']\n"
     ]
    }
   ],
   "source": [
    "for N, a, b in p_instructions:\n",
    "    _stacks[a], m = _stacks[a][:-N], _stacks[a][-N:]\n",
    "    _stacks[b] = _stacks[b] + m\n",
    "    \n",
    "print (_stacks)"
   ]
  },
  {
   "cell_type": "code",
   "execution_count": null,
   "metadata": {},
   "outputs": [],
   "source": []
  }
 ],
 "metadata": {
  "kernelspec": {
   "display_name": "Python 3 (ipykernel)",
   "language": "python",
   "name": "python3"
  },
  "language_info": {
   "codemirror_mode": {
    "name": "ipython",
    "version": 3
   },
   "file_extension": ".py",
   "mimetype": "text/x-python",
   "name": "python",
   "nbconvert_exporter": "python",
   "pygments_lexer": "ipython3",
   "version": "3.10.8 (v3.10.8:aaaf517424, Oct 11 2022, 10:14:40) [Clang 13.0.0 (clang-1300.0.29.30)]"
  },
  "vscode": {
   "interpreter": {
    "hash": "b71f712ffaf6e5bb3145255acac29f3a00590f430bcbfa9b1a438673f5724ce6"
   }
  }
 },
 "nbformat": 4,
 "nbformat_minor": 2
}
