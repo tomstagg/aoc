{
 "cells": [
  {
   "cell_type": "code",
   "execution_count": 1,
   "id": "d7440714",
   "metadata": {},
   "outputs": [],
   "source": [
    "class TreeNode:\n",
    "    def __init__(self,key):\n",
    "        self.key = key\n",
    "        self.left = None\n",
    "        self.right = None\n",
    "        "
   ]
  },
  {
   "cell_type": "code",
   "execution_count": 2,
   "id": "4ff233b2",
   "metadata": {},
   "outputs": [],
   "source": [
    "node0 = TreeNode(3)\n",
    "node1 = TreeNode(4)\n",
    "node2 = TreeNode(5)"
   ]
  },
  {
   "cell_type": "code",
   "execution_count": 3,
   "id": "1aacb791",
   "metadata": {},
   "outputs": [
    {
     "data": {
      "text/plain": [
       "<__main__.TreeNode at 0x109630160>"
      ]
     },
     "execution_count": 3,
     "metadata": {},
     "output_type": "execute_result"
    }
   ],
   "source": [
    "node0"
   ]
  },
  {
   "cell_type": "code",
   "execution_count": 5,
   "id": "85b3949c",
   "metadata": {},
   "outputs": [
    {
     "data": {
      "text/plain": [
       "3"
      ]
     },
     "execution_count": 5,
     "metadata": {},
     "output_type": "execute_result"
    }
   ],
   "source": [
    "node0.key"
   ]
  },
  {
   "cell_type": "code",
   "execution_count": 6,
   "id": "88353200",
   "metadata": {},
   "outputs": [],
   "source": [
    "node0.left = node1\n",
    "node0.right = node2"
   ]
  },
  {
   "cell_type": "code",
   "execution_count": 7,
   "id": "c3205fca",
   "metadata": {},
   "outputs": [
    {
     "data": {
      "text/plain": [
       "3"
      ]
     },
     "execution_count": 7,
     "metadata": {},
     "output_type": "execute_result"
    }
   ],
   "source": [
    "tree = node0\n",
    "tree.key"
   ]
  },
  {
   "cell_type": "code",
   "execution_count": 8,
   "id": "66300409",
   "metadata": {},
   "outputs": [
    {
     "data": {
      "text/plain": [
       "4"
      ]
     },
     "execution_count": 8,
     "metadata": {},
     "output_type": "execute_result"
    }
   ],
   "source": [
    "tree.left.key"
   ]
  },
  {
   "cell_type": "code",
   "execution_count": 9,
   "id": "6aae4b3c",
   "metadata": {},
   "outputs": [
    {
     "data": {
      "text/plain": [
       "5"
      ]
     },
     "execution_count": 9,
     "metadata": {},
     "output_type": "execute_result"
    }
   ],
   "source": [
    "tree.right.key"
   ]
  },
  {
   "cell_type": "code",
   "execution_count": 12,
   "id": "cb519b4f",
   "metadata": {},
   "outputs": [],
   "source": [
    "tree = TreeNode(2)\n",
    "tree.left = TreeNode(3)\n",
    "tree.left.left = TreeNode(1)\n",
    "tree.right = TreeNode(5)\n",
    "tree.right.left = TreeNode(3)\n"
   ]
  },
  {
   "cell_type": "code",
   "execution_count": 13,
   "id": "6f48c49e",
   "metadata": {},
   "outputs": [
    {
     "data": {
      "text/plain": [
       "3"
      ]
     },
     "execution_count": 13,
     "metadata": {},
     "output_type": "execute_result"
    }
   ],
   "source": [
    "tree.right.left.key"
   ]
  },
  {
   "cell_type": "code",
   "execution_count": 49,
   "id": "209f9488",
   "metadata": {},
   "outputs": [],
   "source": [
    "class TNode:\n",
    "    def __init__(self, data):\n",
    "        self.data = data\n",
    "        self.child = []\n",
    "    def add_child(self, child):\n",
    "        self.child.append(child)\n",
    "    def print_tree(self):\n",
    "        for c in self.child:\n",
    "            c.print_tree()\n",
    "        print(self.data)\n",
    "        "
   ]
  },
  {
   "cell_type": "code",
   "execution_count": 50,
   "id": "5424179d",
   "metadata": {},
   "outputs": [],
   "source": [
    "root = TNode(\"*\")"
   ]
  },
  {
   "cell_type": "code",
   "execution_count": 51,
   "id": "4ea87a1b",
   "metadata": {},
   "outputs": [],
   "source": [
    "nodeb = TNode(\"B\")\n",
    "nodeb.add_child(TNode(\"D\"))\n",
    "\n",
    "nodea = TNode(\"A\")\n",
    "nodea.add_child(nodeb)\n",
    "nodea.add_child(TNode(\"C\"))\n",
    "\n",
    "root.add_child(nodea)"
   ]
  },
  {
   "cell_type": "code",
   "execution_count": 52,
   "id": "293b3e69",
   "metadata": {},
   "outputs": [
    {
     "data": {
      "text/plain": [
       "'D'"
      ]
     },
     "execution_count": 52,
     "metadata": {},
     "output_type": "execute_result"
    }
   ],
   "source": [
    "root.child[0].child[0].child[0].data"
   ]
  },
  {
   "cell_type": "code",
   "execution_count": 53,
   "id": "b0a3648a",
   "metadata": {},
   "outputs": [
    {
     "name": "stdout",
     "output_type": "stream",
     "text": [
      "D\n",
      "B\n",
      "C\n",
      "A\n",
      "*\n"
     ]
    }
   ],
   "source": [
    "root.print_tree()"
   ]
  },
  {
   "cell_type": "code",
   "execution_count": null,
   "id": "23912295",
   "metadata": {},
   "outputs": [],
   "source": []
  }
 ],
 "metadata": {
  "kernelspec": {
   "display_name": "Python 3 (ipykernel)",
   "language": "python",
   "name": "python3"
  },
  "language_info": {
   "codemirror_mode": {
    "name": "ipython",
    "version": 3
   },
   "file_extension": ".py",
   "mimetype": "text/x-python",
   "name": "python",
   "nbconvert_exporter": "python",
   "pygments_lexer": "ipython3",
   "version": "3.10.8"
  }
 },
 "nbformat": 4,
 "nbformat_minor": 5
}
