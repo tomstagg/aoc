{
 "cells": [
  {
   "cell_type": "code",
   "execution_count": 32,
   "id": "6ff431e9",
   "metadata": {},
   "outputs": [],
   "source": [
    "data_streams = [\"mjqjpqmgbljsphdztnvjfqwrcgsmlb\",\"bvwbjplbgvbhsrlpgdmjqwftvncz\", \"nppdvjthqldpwncqszvftbrmjlhg\", \"nznrnfrfntjfmvfwmzdfjlvtqnbhcprsg\", \"zcfzfwzzqfrljwzlrfnpqdbhtmscgvjw\"]"
   ]
  },
  {
   "cell_type": "code",
   "execution_count": 34,
   "id": "6f62f1cc",
   "metadata": {},
   "outputs": [
    {
     "name": "stdout",
     "output_type": "stream",
     "text": [
      "7\n",
      "5\n",
      "6\n",
      "10\n",
      "11\n"
     ]
    }
   ],
   "source": [
    "for ds in data_streams:\n",
    "    for i in range(0, len(ds)):\n",
    "        if len(set(ds[i: i+4])) == 4:\n",
    "            print(i+4)\n",
    "            break"
   ]
  },
  {
   "cell_type": "code",
   "execution_count": 35,
   "id": "c885b3b0",
   "metadata": {},
   "outputs": [],
   "source": [
    "ds = \"mjqjpqmgbljsphdztnvjfqwrcgsmlb\""
   ]
  },
  {
   "cell_type": "code",
   "execution_count": 45,
   "id": "28007c71",
   "metadata": {},
   "outputs": [
    {
     "name": "stdout",
     "output_type": "stream",
     "text": [
      "0 mjqjpqmgbljsph 9 14\n",
      "1 jqjpqmgbljsphd 10 15\n",
      "2 qjpqmgbljsphdz 11 16\n",
      "3 jpqmgbljsphdzt 12 17\n",
      "4 pqmgbljsphdztn 13 18\n",
      "5 qmgbljsphdztnv 14 19\n",
      "6 mgbljsphdztnvj 13 20\n",
      "7 gbljsphdztnvjf 13 21\n",
      "8 bljsphdztnvjfq 13 22\n",
      "9 ljsphdztnvjfqw 13 23\n",
      "10 jsphdztnvjfqwr 13 24\n",
      "11 sphdztnvjfqwrc 14 25\n",
      "12 phdztnvjfqwrcg 14 26\n",
      "13 hdztnvjfqwrcgs 14 27\n",
      "14 dztnvjfqwrcgsm 14 28\n",
      "15 ztnvjfqwrcgsml 14 29\n",
      "16 tnvjfqwrcgsmlb 14 30\n",
      "17 nvjfqwrcgsmlb 13 31\n",
      "18 vjfqwrcgsmlb 12 32\n",
      "19 jfqwrcgsmlb 11 33\n",
      "20 fqwrcgsmlb 10 34\n",
      "21 qwrcgsmlb 9 35\n",
      "22 wrcgsmlb 8 36\n",
      "23 rcgsmlb 7 37\n",
      "24 cgsmlb 6 38\n",
      "25 gsmlb 5 39\n",
      "26 smlb 4 40\n",
      "27 mlb 3 41\n",
      "28 lb 2 42\n",
      "29 b 1 43\n"
     ]
    }
   ],
   "source": [
    "for i in range(0, len(ds)):\n",
    "    print (i, ds[i: i+14], len(set(ds[i:i+14])), i+14)"
   ]
  },
  {
   "cell_type": "code",
   "execution_count": 52,
   "id": "426412a0",
   "metadata": {},
   "outputs": [
    {
     "name": "stdout",
     "output_type": "stream",
     "text": [
      "14 mjqjpqmgbljsph 9\n",
      "15 jqjpqmgbljsphd 10\n",
      "16 qjpqmgbljsphdz 11\n",
      "17 jpqmgbljsphdzt 12\n",
      "18 pqmgbljsphdztn 13\n",
      "19 qmgbljsphdztnv 14\n",
      "20 mgbljsphdztnvj 13\n",
      "21 gbljsphdztnvjf 13\n",
      "22 bljsphdztnvjfq 13\n",
      "23 ljsphdztnvjfqw 13\n",
      "24 jsphdztnvjfqwr 13\n",
      "25 sphdztnvjfqwrc 14\n",
      "26 phdztnvjfqwrcg 14\n",
      "27 hdztnvjfqwrcgs 14\n",
      "28 dztnvjfqwrcgsm 14\n",
      "29 ztnvjfqwrcgsml 14\n"
     ]
    }
   ],
   "source": [
    "for i in range(14, len(ds)):\n",
    "    print(i, ds[i-14:i], len(set(ds[i-14:i])))"
   ]
  },
  {
   "cell_type": "code",
   "execution_count": null,
   "id": "1c2bd3a8",
   "metadata": {},
   "outputs": [],
   "source": []
  }
 ],
 "metadata": {
  "kernelspec": {
   "display_name": "venv",
   "language": "python",
   "name": "python3"
  },
  "language_info": {
   "codemirror_mode": {
    "name": "ipython",
    "version": 3
   },
   "file_extension": ".py",
   "mimetype": "text/x-python",
   "name": "python",
   "nbconvert_exporter": "python",
   "pygments_lexer": "ipython3",
   "version": "3.10.8 (v3.10.8:aaaf517424, Oct 11 2022, 10:14:40) [Clang 13.0.0 (clang-1300.0.29.30)]"
  },
  "vscode": {
   "interpreter": {
    "hash": "b71f712ffaf6e5bb3145255acac29f3a00590f430bcbfa9b1a438673f5724ce6"
   }
  }
 },
 "nbformat": 4,
 "nbformat_minor": 5
}
